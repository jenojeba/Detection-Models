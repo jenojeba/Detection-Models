{
 "cells": [
  {
   "cell_type": "code",
   "execution_count": 1,
   "id": "fc42d32e",
   "metadata": {
    "_cell_guid": "b1076dfc-b9ad-4769-8c92-a6c4dae69d19",
    "_uuid": "8f2839f25d086af736a60e9eeb907d3b93b6e0e5",
    "execution": {
     "iopub.execute_input": "2024-06-14T09:33:00.055528Z",
     "iopub.status.busy": "2024-06-14T09:33:00.054972Z",
     "iopub.status.idle": "2024-06-14T09:34:49.314559Z",
     "shell.execute_reply": "2024-06-14T09:34:49.313099Z"
    },
    "papermill": {
     "duration": 109.268184,
     "end_time": "2024-06-14T09:34:49.318101",
     "exception": false,
     "start_time": "2024-06-14T09:33:00.049917",
     "status": "completed"
    },
    "tags": []
   },
   "outputs": [],
   "source": [
    "import os\n",
    "import shutil\n",
    "import random\n",
    "\n",
    "source_base_dir = '/kaggle/input/image-pro/Image_Processing'  \n",
    "\n",
    "\n",
    "base_dir = '/kaggle/working/'\n",
    "\n",
    "\n",
    "original_dir = os.path.join(source_base_dir, 'Original')\n",
    "pixelated_dir = os.path.join(source_base_dir, 'Pixelated')\n",
    "\n",
    "\n",
    "train_dir = os.path.join(base_dir, 'train')\n",
    "test_dir = os.path.join(base_dir, 'test')\n",
    "\n",
    "\n",
    "os.makedirs(os.path.join(train_dir, 'Original'), exist_ok=True)\n",
    "os.makedirs(os.path.join(train_dir, 'Pixelated'), exist_ok=True)\n",
    "os.makedirs(os.path.join(test_dir, 'Original'), exist_ok=True)\n",
    "os.makedirs(os.path.join(test_dir, 'Pixelated'), exist_ok=True)\n",
    "\n",
    "\n",
    "split_ratio = 0.8\n",
    "\n",
    "def split_data(original_dir, pixelated_dir, train_dir, test_dir, split_ratio):\n",
    "    original_files = os.listdir(original_dir)\n",
    "    pixelated_files = os.listdir(pixelated_dir)\n",
    "\n",
    "    \n",
    "    paired_files = [(file, file) for file in original_files if file in pixelated_files]\n",
    "\n",
    "    random.shuffle(paired_files)\n",
    "    split_index = int(len(paired_files) * split_ratio)\n",
    "    train_files = paired_files[:split_index]\n",
    "    test_files = paired_files[split_index:]\n",
    "\n",
    "    for original_file, pixelated_file in train_files:\n",
    "        shutil.copy(os.path.join(original_dir, original_file), os.path.join(train_dir, 'Original', original_file))\n",
    "        shutil.copy(os.path.join(pixelated_dir, pixelated_file), os.path.join(train_dir, 'Pixelated', pixelated_file))\n",
    "    \n",
    "    for original_file, pixelated_file in test_files:\n",
    "        shutil.copy(os.path.join(original_dir, original_file), os.path.join(test_dir, 'Original', original_file))\n",
    "        shutil.copy(os.path.join(pixelated_dir, pixelated_file), os.path.join(test_dir, 'Pixelated', pixelated_file))\n",
    "\n",
    "split_data(original_dir, pixelated_dir, train_dir, test_dir, split_ratio)"
   ]
  },
  {
   "cell_type": "code",
   "execution_count": 2,
   "id": "277fc459",
   "metadata": {
    "execution": {
     "iopub.execute_input": "2024-06-14T09:34:49.325301Z",
     "iopub.status.busy": "2024-06-14T09:34:49.323985Z",
     "iopub.status.idle": "2024-06-14T11:39:37.796515Z",
     "shell.execute_reply": "2024-06-14T11:39:37.794154Z"
    },
    "papermill": {
     "duration": 7488.479035,
     "end_time": "2024-06-14T11:39:37.799679",
     "exception": false,
     "start_time": "2024-06-14T09:34:49.320644",
     "status": "completed"
    },
    "tags": []
   },
   "outputs": [
    {
     "name": "stderr",
     "output_type": "stream",
     "text": [
      "2024-06-14 09:34:51.640510: E external/local_xla/xla/stream_executor/cuda/cuda_dnn.cc:9261] Unable to register cuDNN factory: Attempting to register factory for plugin cuDNN when one has already been registered\n",
      "2024-06-14 09:34:51.640663: E external/local_xla/xla/stream_executor/cuda/cuda_fft.cc:607] Unable to register cuFFT factory: Attempting to register factory for plugin cuFFT when one has already been registered\n",
      "2024-06-14 09:34:51.811615: E external/local_xla/xla/stream_executor/cuda/cuda_blas.cc:1515] Unable to register cuBLAS factory: Attempting to register factory for plugin cuBLAS when one has already been registered\n"
     ]
    },
    {
     "name": "stdout",
     "output_type": "stream",
     "text": [
      "Found 7884 images belonging to 2 classes.\n",
      "Found 1972 images belonging to 2 classes.\n"
     ]
    },
    {
     "name": "stderr",
     "output_type": "stream",
     "text": [
      "/opt/conda/lib/python3.10/site-packages/keras/src/layers/convolutional/base_conv.py:107: UserWarning: Do not pass an `input_shape`/`input_dim` argument to a layer. When using Sequential models, prefer using an `Input(shape)` object as the first layer in the model instead.\n",
      "  super().__init__(activity_regularizer=activity_regularizer, **kwargs)\n"
     ]
    },
    {
     "name": "stdout",
     "output_type": "stream",
     "text": [
      "Epoch 1/10\n"
     ]
    },
    {
     "name": "stderr",
     "output_type": "stream",
     "text": [
      "/opt/conda/lib/python3.10/site-packages/keras/src/trainers/data_adapters/py_dataset_adapter.py:121: UserWarning: Your `PyDataset` class should call `super().__init__(**kwargs)` in its constructor. `**kwargs` can include `workers`, `use_multiprocessing`, `max_queue_size`. Do not pass these arguments to `fit()`, as they will be ignored.\n",
      "  self._warn_if_super_not_called()\n"
     ]
    },
    {
     "name": "stdout",
     "output_type": "stream",
     "text": [
      "\u001b[1m247/247\u001b[0m \u001b[32m━━━━━━━━━━━━━━━━━━━━\u001b[0m\u001b[37m\u001b[0m \u001b[1m754s\u001b[0m 3s/step - accuracy: 0.7658 - loss: 0.4822 - val_accuracy: 0.8763 - val_loss: 0.3247\n",
      "Epoch 2/10\n",
      "\u001b[1m247/247\u001b[0m \u001b[32m━━━━━━━━━━━━━━━━━━━━\u001b[0m\u001b[37m\u001b[0m \u001b[1m751s\u001b[0m 3s/step - accuracy: 0.8675 - loss: 0.3315 - val_accuracy: 0.8798 - val_loss: 0.3029\n",
      "Epoch 3/10\n",
      "\u001b[1m247/247\u001b[0m \u001b[32m━━━━━━━━━━━━━━━━━━━━\u001b[0m\u001b[37m\u001b[0m \u001b[1m784s\u001b[0m 3s/step - accuracy: 0.8839 - loss: 0.3036 - val_accuracy: 0.8798 - val_loss: 0.3064\n",
      "Epoch 4/10\n",
      "\u001b[1m247/247\u001b[0m \u001b[32m━━━━━━━━━━━━━━━━━━━━\u001b[0m\u001b[37m\u001b[0m \u001b[1m741s\u001b[0m 3s/step - accuracy: 0.8736 - loss: 0.3188 - val_accuracy: 0.8813 - val_loss: 0.3063\n",
      "Epoch 5/10\n",
      "\u001b[1m247/247\u001b[0m \u001b[32m━━━━━━━━━━━━━━━━━━━━\u001b[0m\u001b[37m\u001b[0m \u001b[1m727s\u001b[0m 3s/step - accuracy: 0.8792 - loss: 0.3091 - val_accuracy: 0.8793 - val_loss: 0.2995\n",
      "Epoch 6/10\n",
      "\u001b[1m247/247\u001b[0m \u001b[32m━━━━━━━━━━━━━━━━━━━━\u001b[0m\u001b[37m\u001b[0m \u001b[1m727s\u001b[0m 3s/step - accuracy: 0.8741 - loss: 0.3161 - val_accuracy: 0.8813 - val_loss: 0.2994\n",
      "Epoch 7/10\n",
      "\u001b[1m247/247\u001b[0m \u001b[32m━━━━━━━━━━━━━━━━━━━━\u001b[0m\u001b[37m\u001b[0m \u001b[1m718s\u001b[0m 3s/step - accuracy: 0.8790 - loss: 0.3069 - val_accuracy: 0.8813 - val_loss: 0.3008\n",
      "Epoch 8/10\n",
      "\u001b[1m247/247\u001b[0m \u001b[32m━━━━━━━━━━━━━━━━━━━━\u001b[0m\u001b[37m\u001b[0m \u001b[1m721s\u001b[0m 3s/step - accuracy: 0.8816 - loss: 0.2993 - val_accuracy: 0.8834 - val_loss: 0.3011\n",
      "Epoch 9/10\n",
      "\u001b[1m247/247\u001b[0m \u001b[32m━━━━━━━━━━━━━━━━━━━━\u001b[0m\u001b[37m\u001b[0m \u001b[1m724s\u001b[0m 3s/step - accuracy: 0.8803 - loss: 0.2983 - val_accuracy: 0.8818 - val_loss: 0.2948\n",
      "Epoch 10/10\n",
      "\u001b[1m247/247\u001b[0m \u001b[32m━━━━━━━━━━━━━━━━━━━━\u001b[0m\u001b[37m\u001b[0m \u001b[1m738s\u001b[0m 3s/step - accuracy: 0.8867 - loss: 0.2914 - val_accuracy: 0.8808 - val_loss: 0.3005\n",
      "\u001b[1m62/62\u001b[0m \u001b[32m━━━━━━━━━━━━━━━━━━━━\u001b[0m\u001b[37m\u001b[0m \u001b[1m45s\u001b[0m 721ms/step - accuracy: 0.8811 - loss: 0.3020\n",
      "Test Accuracy: 0.8808316588401794\n"
     ]
    }
   ],
   "source": [
    "import tensorflow as tf\n",
    "from tensorflow.keras.preprocessing.image import ImageDataGenerator\n",
    "from tensorflow.keras import layers, models\n",
    "from tensorflow.keras.optimizers import Adam\n",
    "from tensorflow.keras.models import Model\n",
    "\n",
    "# Define paths\n",
    "train_dir = '/kaggle/working/train'\n",
    "test_dir = '/kaggle/working/test'\n",
    "\n",
    "# Image data generators for data augmentation and normalization\n",
    "train_datagen = ImageDataGenerator(\n",
    "    rescale=1./255,\n",
    "    horizontal_flip=True,\n",
    "    zoom_range=0.2\n",
    ")\n",
    "\n",
    "test_datagen = ImageDataGenerator(rescale=1./255)\n",
    "\n",
    "# Image data generators\n",
    "train_generator = train_datagen.flow_from_directory(\n",
    "    train_dir,\n",
    "    target_size=(227, 227),\n",
    "    batch_size=32,\n",
    "    class_mode='binary'\n",
    ")\n",
    "\n",
    "test_generator = test_datagen.flow_from_directory(\n",
    "    test_dir,\n",
    "    target_size=(227, 227),\n",
    "    batch_size=32,\n",
    "    class_mode='binary'\n",
    ")\n",
    "\n",
    "# Define the AlexNet model\n",
    "def AlexNet(input_shape=(227, 227, 3)):\n",
    "    model = models.Sequential()\n",
    "    \n",
    "    model.add(layers.Conv2D(96, (11, 11), strides=(4, 4), input_shape=input_shape, padding='valid', activation='relu'))\n",
    "    model.add(layers.MaxPooling2D(pool_size=(3, 3), strides=(2, 2)))\n",
    "\n",
    "    model.add(layers.Conv2D(256, (5, 5), padding='same', activation='relu'))\n",
    "    model.add(layers.MaxPooling2D(pool_size=(3, 3), strides=(2, 2)))\n",
    "\n",
    "    model.add(layers.Conv2D(384, (3, 3), padding='same', activation='relu'))\n",
    "    model.add(layers.Conv2D(384, (3, 3), padding='same', activation='relu'))\n",
    "    model.add(layers.Conv2D(256, (3, 3), padding='same', activation='relu'))\n",
    "    model.add(layers.MaxPooling2D(pool_size=(3, 3), strides=(2, 2)))\n",
    "\n",
    "    model.add(layers.Flatten())\n",
    "    model.add(layers.Dense(4096, activation='relu'))\n",
    "    model.add(layers.Dropout(0.5))\n",
    "    model.add(layers.Dense(4096, activation='relu'))\n",
    "    model.add(layers.Dropout(0.5))\n",
    "    model.add(layers.Dense(1, activation='sigmoid'))\n",
    "    \n",
    "    return model\n",
    "\n",
    "# Instantiate the model\n",
    "model = AlexNet(input_shape=(227, 227, 3))\n",
    "\n",
    "# Compile the model\n",
    "model.compile(optimizer=Adam(learning_rate=0.0001), loss='binary_crossentropy', metrics=['accuracy'])\n",
    "\n",
    "# Train the model\n",
    "model.fit(\n",
    "    train_generator,\n",
    "    epochs=10,\n",
    "    validation_data=test_generator\n",
    ")\n",
    "\n",
    "# Evaluate the model\n",
    "loss, accuracy = model.evaluate(test_generator)\n",
    "print(f'Test Accuracy: {accuracy}')\n",
    "\n",
    "# Save the model\n",
    "model.save('/kaggle/working/alexnet_pixelation_detector.h5')\n"
   ]
  }
 ],
 "metadata": {
  "kaggle": {
   "accelerator": "none",
   "dataSources": [
    {
     "datasetId": 5203053,
     "sourceId": 8679592,
     "sourceType": "datasetVersion"
    }
   ],
   "dockerImageVersionId": 30732,
   "isGpuEnabled": false,
   "isInternetEnabled": true,
   "language": "python",
   "sourceType": "notebook"
  },
  "kernelspec": {
   "display_name": "Python 3",
   "language": "python",
   "name": "python3"
  },
  "language_info": {
   "codemirror_mode": {
    "name": "ipython",
    "version": 3
   },
   "file_extension": ".py",
   "mimetype": "text/x-python",
   "name": "python",
   "nbconvert_exporter": "python",
   "pygments_lexer": "ipython3",
   "version": "3.10.13"
  },
  "papermill": {
   "default_parameters": {},
   "duration": 7603.115931,
   "end_time": "2024-06-14T11:39:40.019236",
   "environment_variables": {},
   "exception": null,
   "input_path": "__notebook__.ipynb",
   "output_path": "__notebook__.ipynb",
   "parameters": {},
   "start_time": "2024-06-14T09:32:56.903305",
   "version": "2.5.0"
  }
 },
 "nbformat": 4,
 "nbformat_minor": 5
}
