{
 "cells": [
  {
   "cell_type": "code",
   "execution_count": 1,
   "id": "450f830d",
   "metadata": {
    "_cell_guid": "b1076dfc-b9ad-4769-8c92-a6c4dae69d19",
    "_uuid": "8f2839f25d086af736a60e9eeb907d3b93b6e0e5",
    "execution": {
     "iopub.execute_input": "2024-06-14T09:37:40.746070Z",
     "iopub.status.busy": "2024-06-14T09:37:40.745591Z",
     "iopub.status.idle": "2024-06-14T09:39:38.443856Z",
     "shell.execute_reply": "2024-06-14T09:39:38.442438Z"
    },
    "papermill": {
     "duration": 117.708015,
     "end_time": "2024-06-14T09:39:38.447334",
     "exception": false,
     "start_time": "2024-06-14T09:37:40.739319",
     "status": "completed"
    },
    "tags": []
   },
   "outputs": [],
   "source": [
    "import os\n",
    "import shutil\n",
    "import random\n",
    "\n",
    "source_base_dir = '/kaggle/input/image-pro/Image_Processing'  \n",
    "\n",
    "\n",
    "base_dir = '/kaggle/working/'\n",
    "\n",
    "\n",
    "original_dir = os.path.join(source_base_dir, 'Original')\n",
    "pixelated_dir = os.path.join(source_base_dir, 'Pixelated')\n",
    "\n",
    "\n",
    "train_dir = os.path.join(base_dir, 'train')\n",
    "test_dir = os.path.join(base_dir, 'test')\n",
    "\n",
    "\n",
    "os.makedirs(os.path.join(train_dir, 'Original'), exist_ok=True)\n",
    "os.makedirs(os.path.join(train_dir, 'Pixelated'), exist_ok=True)\n",
    "os.makedirs(os.path.join(test_dir, 'Original'), exist_ok=True)\n",
    "os.makedirs(os.path.join(test_dir, 'Pixelated'), exist_ok=True)\n",
    "\n",
    "\n",
    "split_ratio = 0.8\n",
    "\n",
    "def split_data(original_dir, pixelated_dir, train_dir, test_dir, split_ratio):\n",
    "    original_files = os.listdir(original_dir)\n",
    "    pixelated_files = os.listdir(pixelated_dir)\n",
    "\n",
    "    \n",
    "    paired_files = [(file, file) for file in original_files if file in pixelated_files]\n",
    "\n",
    "    random.shuffle(paired_files)\n",
    "    split_index = int(len(paired_files) * split_ratio)\n",
    "    train_files = paired_files[:split_index]\n",
    "    test_files = paired_files[split_index:]\n",
    "\n",
    "    for original_file, pixelated_file in train_files:\n",
    "        shutil.copy(os.path.join(original_dir, original_file), os.path.join(train_dir, 'Original', original_file))\n",
    "        shutil.copy(os.path.join(pixelated_dir, pixelated_file), os.path.join(train_dir, 'Pixelated', pixelated_file))\n",
    "    \n",
    "    for original_file, pixelated_file in test_files:\n",
    "        shutil.copy(os.path.join(original_dir, original_file), os.path.join(test_dir, 'Original', original_file))\n",
    "        shutil.copy(os.path.join(pixelated_dir, pixelated_file), os.path.join(test_dir, 'Pixelated', pixelated_file))\n",
    "\n",
    "split_data(original_dir, pixelated_dir, train_dir, test_dir, split_ratio)"
   ]
  },
  {
   "cell_type": "code",
   "execution_count": 2,
   "id": "f84d508a",
   "metadata": {
    "execution": {
     "iopub.execute_input": "2024-06-14T09:39:38.458084Z",
     "iopub.status.busy": "2024-06-14T09:39:38.457689Z",
     "iopub.status.idle": "2024-06-14T09:39:55.935505Z",
     "shell.execute_reply": "2024-06-14T09:39:55.934315Z"
    },
    "papermill": {
     "duration": 17.486881,
     "end_time": "2024-06-14T09:39:55.938821",
     "exception": false,
     "start_time": "2024-06-14T09:39:38.451940",
     "status": "completed"
    },
    "tags": []
   },
   "outputs": [
    {
     "name": "stderr",
     "output_type": "stream",
     "text": [
      "2024-06-14 09:39:41.114989: E external/local_xla/xla/stream_executor/cuda/cuda_dnn.cc:9261] Unable to register cuDNN factory: Attempting to register factory for plugin cuDNN when one has already been registered\n",
      "2024-06-14 09:39:41.115165: E external/local_xla/xla/stream_executor/cuda/cuda_fft.cc:607] Unable to register cuFFT factory: Attempting to register factory for plugin cuFFT when one has already been registered\n",
      "2024-06-14 09:39:41.310015: E external/local_xla/xla/stream_executor/cuda/cuda_blas.cc:1515] Unable to register cuBLAS factory: Attempting to register factory for plugin cuBLAS when one has already been registered\n"
     ]
    }
   ],
   "source": [
    "import tensorflow as tf\n",
    "from tensorflow.keras.preprocessing.image import ImageDataGenerator\n",
    "from tensorflow.keras.applications.inception_v3 import InceptionV3\n",
    "from tensorflow.keras.models import Model\n",
    "from tensorflow.keras.layers import Dense, GlobalAveragePooling2D\n",
    "from tensorflow.keras.optimizers import Adam\n"
   ]
  },
  {
   "cell_type": "code",
   "execution_count": 3,
   "id": "03d19d7e",
   "metadata": {
    "execution": {
     "iopub.execute_input": "2024-06-14T09:39:55.948628Z",
     "iopub.status.busy": "2024-06-14T09:39:55.947873Z",
     "iopub.status.idle": "2024-06-14T09:39:56.310141Z",
     "shell.execute_reply": "2024-06-14T09:39:56.308943Z"
    },
    "papermill": {
     "duration": 0.370772,
     "end_time": "2024-06-14T09:39:56.313525",
     "exception": false,
     "start_time": "2024-06-14T09:39:55.942753",
     "status": "completed"
    },
    "tags": []
   },
   "outputs": [
    {
     "name": "stdout",
     "output_type": "stream",
     "text": [
      "Found 6308 images belonging to 2 classes.\n",
      "Found 1576 images belonging to 2 classes.\n",
      "Found 1972 images belonging to 2 classes.\n"
     ]
    }
   ],
   "source": [
    "# Data augmentation and preprocessing\n",
    "train_datagen = ImageDataGenerator(\n",
    "    rescale=1./255,\n",
    "    shear_range=0.2,\n",
    "    zoom_range=0.2,\n",
    "    horizontal_flip=True,\n",
    "    validation_split=0.2\n",
    ")\n",
    "\n",
    "test_datagen = ImageDataGenerator(rescale=1./255)\n",
    "\n",
    "train_generator = train_datagen.flow_from_directory(\n",
    "    '/kaggle/working/train',\n",
    "    target_size=(224, 224),\n",
    "    batch_size=32,\n",
    "    class_mode='binary',\n",
    "    subset='training'\n",
    ")\n",
    "\n",
    "validation_generator = train_datagen.flow_from_directory(\n",
    "    '/kaggle/working/train',\n",
    "    target_size=(224, 224),\n",
    "    batch_size=32,\n",
    "    class_mode='binary',\n",
    "    subset='validation'\n",
    ")\n",
    "\n",
    "test_generator = test_datagen.flow_from_directory(\n",
    "    '/kaggle/working/test',\n",
    "    target_size=(224, 224),\n",
    "    batch_size=32,\n",
    "    class_mode='binary'\n",
    ")\n"
   ]
  },
  {
   "cell_type": "code",
   "execution_count": 4,
   "id": "0917f8e8",
   "metadata": {
    "execution": {
     "iopub.execute_input": "2024-06-14T09:39:56.324040Z",
     "iopub.status.busy": "2024-06-14T09:39:56.323048Z",
     "iopub.status.idle": "2024-06-14T09:39:59.833829Z",
     "shell.execute_reply": "2024-06-14T09:39:59.832624Z"
    },
    "papermill": {
     "duration": 3.519182,
     "end_time": "2024-06-14T09:39:59.836818",
     "exception": false,
     "start_time": "2024-06-14T09:39:56.317636",
     "status": "completed"
    },
    "tags": []
   },
   "outputs": [
    {
     "name": "stdout",
     "output_type": "stream",
     "text": [
      "Downloading data from https://storage.googleapis.com/tensorflow/keras-applications/inception_v3/inception_v3_weights_tf_dim_ordering_tf_kernels_notop.h5\n",
      "\u001b[1m87910968/87910968\u001b[0m \u001b[32m━━━━━━━━━━━━━━━━━━━━\u001b[0m\u001b[37m\u001b[0m \u001b[1m1s\u001b[0m 0us/step\n"
     ]
    }
   ],
   "source": [
    "base_model = InceptionV3(weights='imagenet', include_top=False)\n",
    "\n",
    "x = base_model.output\n",
    "x = GlobalAveragePooling2D()(x)\n",
    "x = Dense(1024, activation='relu')(x)\n",
    "predictions = Dense(1, activation='sigmoid')(x)\n",
    "\n",
    "model = Model(inputs=base_model.input, outputs=predictions)\n",
    "\n",
    "for layer in base_model.layers:\n",
    "    layer.trainable = False\n",
    "\n",
    "model.compile(optimizer=Adam(learning_rate=0.001), loss='binary_crossentropy', metrics=['accuracy'])\n"
   ]
  },
  {
   "cell_type": "code",
   "execution_count": 5,
   "id": "04ab8f4d",
   "metadata": {
    "execution": {
     "iopub.execute_input": "2024-06-14T09:39:59.849020Z",
     "iopub.status.busy": "2024-06-14T09:39:59.848605Z",
     "iopub.status.idle": "2024-06-14T10:25:34.554216Z",
     "shell.execute_reply": "2024-06-14T10:25:34.551956Z"
    },
    "papermill": {
     "duration": 2734.715327,
     "end_time": "2024-06-14T10:25:34.557427",
     "exception": false,
     "start_time": "2024-06-14T09:39:59.842100",
     "status": "completed"
    },
    "tags": []
   },
   "outputs": [
    {
     "name": "stdout",
     "output_type": "stream",
     "text": [
      "Epoch 1/10\n"
     ]
    },
    {
     "name": "stderr",
     "output_type": "stream",
     "text": [
      "/opt/conda/lib/python3.10/site-packages/keras/src/trainers/data_adapters/py_dataset_adapter.py:121: UserWarning: Your `PyDataset` class should call `super().__init__(**kwargs)` in its constructor. `**kwargs` can include `workers`, `use_multiprocessing`, `max_queue_size`. Do not pass these arguments to `fit()`, as they will be ignored.\n",
      "  self._warn_if_super_not_called()\n"
     ]
    },
    {
     "name": "stdout",
     "output_type": "stream",
     "text": [
      "\u001b[1m197/197\u001b[0m \u001b[32m━━━━━━━━━━━━━━━━━━━━\u001b[0m\u001b[37m\u001b[0m \u001b[1m561s\u001b[0m 3s/step - accuracy: 0.5997 - loss: 0.9541 - val_accuracy: 0.7519 - val_loss: 0.5199\n",
      "Epoch 2/10\n",
      "\u001b[1m  1/197\u001b[0m \u001b[37m━━━━━━━━━━━━━━━━━━━━\u001b[0m \u001b[1m5:52\u001b[0m 2s/step - accuracy: 0.7812 - loss: 0.4319"
     ]
    },
    {
     "name": "stderr",
     "output_type": "stream",
     "text": [
      "/opt/conda/lib/python3.10/contextlib.py:153: UserWarning: Your input ran out of data; interrupting training. Make sure that your dataset or generator can generate at least `steps_per_epoch * epochs` batches. You may need to use the `.repeat()` function when building your dataset.\n",
      "  self.gen.throw(typ, value, traceback)\n"
     ]
    },
    {
     "name": "stdout",
     "output_type": "stream",
     "text": [
      "\u001b[1m197/197\u001b[0m \u001b[32m━━━━━━━━━━━━━━━━━━━━\u001b[0m\u001b[37m\u001b[0m \u001b[1m2s\u001b[0m 3ms/step - accuracy: 0.7812 - loss: 0.4319 - val_accuracy: 0.7500 - val_loss: 0.4493\n",
      "Epoch 3/10\n",
      "\u001b[1m197/197\u001b[0m \u001b[32m━━━━━━━━━━━━━━━━━━━━\u001b[0m\u001b[37m\u001b[0m \u001b[1m544s\u001b[0m 3s/step - accuracy: 0.7625 - loss: 0.4950 - val_accuracy: 0.7526 - val_loss: 0.5303\n",
      "Epoch 4/10\n",
      "\u001b[1m197/197\u001b[0m \u001b[32m━━━━━━━━━━━━━━━━━━━━\u001b[0m\u001b[37m\u001b[0m \u001b[1m3s\u001b[0m 3ms/step - accuracy: 0.7500 - loss: 0.4809 - val_accuracy: 1.0000 - val_loss: 0.3300\n",
      "Epoch 5/10\n",
      "\u001b[1m197/197\u001b[0m \u001b[32m━━━━━━━━━━━━━━━━━━━━\u001b[0m\u001b[37m\u001b[0m \u001b[1m543s\u001b[0m 3s/step - accuracy: 0.7954 - loss: 0.4365 - val_accuracy: 0.6652 - val_loss: 0.5984\n",
      "Epoch 6/10\n",
      "\u001b[1m197/197\u001b[0m \u001b[32m━━━━━━━━━━━━━━━━━━━━\u001b[0m\u001b[37m\u001b[0m \u001b[1m2s\u001b[0m 3ms/step - accuracy: 0.6562 - loss: 0.5666 - val_accuracy: 0.8750 - val_loss: 0.4248\n",
      "Epoch 7/10\n",
      "\u001b[1m197/197\u001b[0m \u001b[32m━━━━━━━━━━━━━━━━━━━━\u001b[0m\u001b[37m\u001b[0m \u001b[1m539s\u001b[0m 3s/step - accuracy: 0.7957 - loss: 0.4438 - val_accuracy: 0.7615 - val_loss: 0.5357\n",
      "Epoch 8/10\n",
      "\u001b[1m197/197\u001b[0m \u001b[32m━━━━━━━━━━━━━━━━━━━━\u001b[0m\u001b[37m\u001b[0m \u001b[1m2s\u001b[0m 3ms/step - accuracy: 0.7500 - loss: 0.4358 - val_accuracy: 1.0000 - val_loss: 0.1252\n",
      "Epoch 9/10\n",
      "\u001b[1m197/197\u001b[0m \u001b[32m━━━━━━━━━━━━━━━━━━━━\u001b[0m\u001b[37m\u001b[0m \u001b[1m534s\u001b[0m 3s/step - accuracy: 0.8121 - loss: 0.4061 - val_accuracy: 0.7494 - val_loss: 0.5431\n",
      "Epoch 10/10\n",
      "\u001b[1m197/197\u001b[0m \u001b[32m━━━━━━━━━━━━━━━━━━━━\u001b[0m\u001b[37m\u001b[0m \u001b[1m2s\u001b[0m 3ms/step - accuracy: 0.8125 - loss: 0.3709 - val_accuracy: 0.8750 - val_loss: 0.3623\n"
     ]
    },
    {
     "data": {
      "text/plain": [
       "<keras.src.callbacks.history.History at 0x79d832807b80>"
      ]
     },
     "execution_count": 5,
     "metadata": {},
     "output_type": "execute_result"
    }
   ],
   "source": [
    "model.fit(\n",
    "    train_generator,\n",
    "    steps_per_epoch=train_generator.samples // train_generator.batch_size,\n",
    "    validation_data=validation_generator,\n",
    "    validation_steps=validation_generator.samples // validation_generator.batch_size,\n",
    "    epochs=10\n",
    ")\n"
   ]
  },
  {
   "cell_type": "code",
   "execution_count": 6,
   "id": "81f6aff5",
   "metadata": {
    "execution": {
     "iopub.execute_input": "2024-06-14T10:25:34.769399Z",
     "iopub.status.busy": "2024-06-14T10:25:34.768859Z",
     "iopub.status.idle": "2024-06-14T10:27:39.034162Z",
     "shell.execute_reply": "2024-06-14T10:27:39.032568Z"
    },
    "papermill": {
     "duration": 124.374445,
     "end_time": "2024-06-14T10:27:39.037107",
     "exception": false,
     "start_time": "2024-06-14T10:25:34.662662",
     "status": "completed"
    },
    "tags": []
   },
   "outputs": [
    {
     "name": "stdout",
     "output_type": "stream",
     "text": [
      "\u001b[1m61/61\u001b[0m \u001b[32m━━━━━━━━━━━━━━━━━━━━\u001b[0m\u001b[37m\u001b[0m \u001b[1m123s\u001b[0m 2s/step - accuracy: 0.7800 - loss: 0.4834\n",
      "Test Accuracy: 79.30%\n"
     ]
    }
   ],
   "source": [
    "loss, accuracy = model.evaluate(test_generator, steps=test_generator.samples // test_generator.batch_size)\n",
    "print(f\"Test Accuracy: {accuracy * 100:.2f}%\")\n"
   ]
  },
  {
   "cell_type": "code",
   "execution_count": 7,
   "id": "71d8d1ec",
   "metadata": {
    "execution": {
     "iopub.execute_input": "2024-06-14T10:27:39.260512Z",
     "iopub.status.busy": "2024-06-14T10:27:39.260047Z",
     "iopub.status.idle": "2024-06-14T10:27:40.003603Z",
     "shell.execute_reply": "2024-06-14T10:27:40.002072Z"
    },
    "papermill": {
     "duration": 0.85859,
     "end_time": "2024-06-14T10:27:40.006896",
     "exception": false,
     "start_time": "2024-06-14T10:27:39.148306",
     "status": "completed"
    },
    "tags": []
   },
   "outputs": [],
   "source": [
    "model.save('pixelated_detection_model.h5')\n"
   ]
  }
 ],
 "metadata": {
  "kaggle": {
   "accelerator": "none",
   "dataSources": [
    {
     "datasetId": 5203053,
     "sourceId": 8679592,
     "sourceType": "datasetVersion"
    }
   ],
   "dockerImageVersionId": 30732,
   "isGpuEnabled": false,
   "isInternetEnabled": true,
   "language": "python",
   "sourceType": "notebook"
  },
  "kernelspec": {
   "display_name": "Python 3",
   "language": "python",
   "name": "python3"
  },
  "language_info": {
   "codemirror_mode": {
    "name": "ipython",
    "version": 3
   },
   "file_extension": ".py",
   "mimetype": "text/x-python",
   "name": "python",
   "nbconvert_exporter": "python",
   "pygments_lexer": "ipython3",
   "version": "3.10.13"
  },
  "papermill": {
   "default_parameters": {},
   "duration": 3006.188433,
   "end_time": "2024-06-14T10:27:43.543966",
   "environment_variables": {},
   "exception": null,
   "input_path": "__notebook__.ipynb",
   "output_path": "__notebook__.ipynb",
   "parameters": {},
   "start_time": "2024-06-14T09:37:37.355533",
   "version": "2.5.0"
  }
 },
 "nbformat": 4,
 "nbformat_minor": 5
}
