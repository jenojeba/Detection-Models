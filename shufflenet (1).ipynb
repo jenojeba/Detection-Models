{
 "cells": [
  {
   "cell_type": "code",
   "execution_count": 1,
   "id": "9ff8576f",
   "metadata": {
    "_cell_guid": "b1076dfc-b9ad-4769-8c92-a6c4dae69d19",
    "_uuid": "8f2839f25d086af736a60e9eeb907d3b93b6e0e5",
    "execution": {
     "iopub.execute_input": "2024-06-14T12:11:50.980661Z",
     "iopub.status.busy": "2024-06-14T12:11:50.980245Z",
     "iopub.status.idle": "2024-06-14T12:13:49.118006Z",
     "shell.execute_reply": "2024-06-14T12:13:49.116486Z"
    },
    "papermill": {
     "duration": 118.144953,
     "end_time": "2024-06-14T12:13:49.121017",
     "exception": false,
     "start_time": "2024-06-14T12:11:50.976064",
     "status": "completed"
    },
    "tags": []
   },
   "outputs": [],
   "source": [
    "import os\n",
    "import shutil\n",
    "import random\n",
    "\n",
    "source_base_dir = '/kaggle/input/image-pro/Image_Processing'  \n",
    "\n",
    "\n",
    "base_dir = '/kaggle/working/'\n",
    "\n",
    "\n",
    "original_dir = os.path.join(source_base_dir, 'Original')\n",
    "pixelated_dir = os.path.join(source_base_dir, 'Pixelated')\n",
    "\n",
    "\n",
    "train_dir = os.path.join(base_dir, 'train')\n",
    "test_dir = os.path.join(base_dir, 'test')\n",
    "\n",
    "\n",
    "os.makedirs(os.path.join(train_dir, 'Original'), exist_ok=True)\n",
    "os.makedirs(os.path.join(train_dir, 'Pixelated'), exist_ok=True)\n",
    "os.makedirs(os.path.join(test_dir, 'Original'), exist_ok=True)\n",
    "os.makedirs(os.path.join(test_dir, 'Pixelated'), exist_ok=True)\n",
    "\n",
    "\n",
    "split_ratio = 0.8\n",
    "\n",
    "def split_data(original_dir, pixelated_dir, train_dir, test_dir, split_ratio):\n",
    "    original_files = os.listdir(original_dir)\n",
    "    pixelated_files = os.listdir(pixelated_dir)\n",
    "\n",
    "    \n",
    "    paired_files = [(file, file) for file in original_files if file in pixelated_files]\n",
    "\n",
    "    random.shuffle(paired_files)\n",
    "    split_index = int(len(paired_files) * split_ratio)\n",
    "    train_files = paired_files[:split_index]\n",
    "    test_files = paired_files[split_index:]\n",
    "\n",
    "    for original_file, pixelated_file in train_files:\n",
    "        shutil.copy(os.path.join(original_dir, original_file), os.path.join(train_dir, 'Original', original_file))\n",
    "        shutil.copy(os.path.join(pixelated_dir, pixelated_file), os.path.join(train_dir, 'Pixelated', pixelated_file))\n",
    "    \n",
    "    for original_file, pixelated_file in test_files:\n",
    "        shutil.copy(os.path.join(original_dir, original_file), os.path.join(test_dir, 'Original', original_file))\n",
    "        shutil.copy(os.path.join(pixelated_dir, pixelated_file), os.path.join(test_dir, 'Pixelated', pixelated_file))\n",
    "\n",
    "split_data(original_dir, pixelated_dir, train_dir, test_dir, split_ratio)"
   ]
  },
  {
   "cell_type": "code",
   "execution_count": 2,
   "id": "62e67ce8",
   "metadata": {
    "execution": {
     "iopub.execute_input": "2024-06-14T12:13:49.128414Z",
     "iopub.status.busy": "2024-06-14T12:13:49.127892Z",
     "iopub.status.idle": "2024-06-14T12:13:55.202986Z",
     "shell.execute_reply": "2024-06-14T12:13:55.201112Z"
    },
    "papermill": {
     "duration": 6.082199,
     "end_time": "2024-06-14T12:13:55.206182",
     "exception": false,
     "start_time": "2024-06-14T12:13:49.123983",
     "status": "completed"
    },
    "tags": []
   },
   "outputs": [],
   "source": [
    "import torch\n",
    "import torchvision\n",
    "from torchvision import transforms, datasets\n",
    "import torchvision.models as models\n",
    "import torch.nn as nn\n",
    "from torch.utils.data import DataLoader"
   ]
  },
  {
   "cell_type": "code",
   "execution_count": 3,
   "id": "b682e6f6",
   "metadata": {
    "execution": {
     "iopub.execute_input": "2024-06-14T12:13:55.213481Z",
     "iopub.status.busy": "2024-06-14T12:13:55.212590Z",
     "iopub.status.idle": "2024-06-14T13:18:17.365602Z",
     "shell.execute_reply": "2024-06-14T13:18:17.364471Z"
    },
    "papermill": {
     "duration": 3862.161876,
     "end_time": "2024-06-14T13:18:17.370602",
     "exception": false,
     "start_time": "2024-06-14T12:13:55.208726",
     "status": "completed"
    },
    "tags": []
   },
   "outputs": [
    {
     "name": "stderr",
     "output_type": "stream",
     "text": [
      "/opt/conda/lib/python3.10/site-packages/torchvision/models/_utils.py:208: UserWarning: The parameter 'pretrained' is deprecated since 0.13 and may be removed in the future, please use 'weights' instead.\n",
      "  warnings.warn(\n",
      "/opt/conda/lib/python3.10/site-packages/torchvision/models/_utils.py:223: UserWarning: Arguments other than a weight enum or `None` for 'weights' are deprecated since 0.13 and may be removed in the future. The current behavior is equivalent to passing `weights=ShuffleNet_V2_X1_0_Weights.IMAGENET1K_V1`. You can also use `weights=ShuffleNet_V2_X1_0_Weights.DEFAULT` to get the most up-to-date weights.\n",
      "  warnings.warn(msg)\n",
      "Downloading: \"https://download.pytorch.org/models/shufflenetv2_x1-5666bf0f80.pth\" to /root/.cache/torch/hub/checkpoints/shufflenetv2_x1-5666bf0f80.pth\n",
      "100%|██████████| 8.79M/8.79M [00:00<00:00, 68.1MB/s]\n"
     ]
    },
    {
     "name": "stdout",
     "output_type": "stream",
     "text": [
      "Epoch [1/10], Loss: 0.4912\n",
      "Epoch [2/10], Loss: 0.4714\n",
      "Epoch [3/10], Loss: 0.4272\n",
      "Epoch [4/10], Loss: 0.4061\n",
      "Epoch [5/10], Loss: 0.3408\n",
      "Epoch [6/10], Loss: 0.2432\n",
      "Epoch [7/10], Loss: 0.2480\n",
      "Epoch [8/10], Loss: 0.4035\n",
      "Epoch [9/10], Loss: 0.1338\n",
      "Epoch [10/10], Loss: 0.3002\n",
      "Accuracy on test set: 93.36%\n"
     ]
    }
   ],
   "source": [
    "device = torch.device(\"cuda\" if torch.cuda.is_available() else \"cpu\")\n",
    "\n",
    "# Define data transformations\n",
    "data_transform = transforms.Compose([\n",
    "    transforms.Resize(224),    # Resize to fit ShuffleNet's requirements\n",
    "    transforms.CenterCrop(224), # Crop center to 224x224\n",
    "    transforms.ToTensor(),      # Convert to tensor\n",
    "    transforms.Normalize(mean=[0.485, 0.456, 0.406], std=[0.229, 0.224, 0.225])  # Normalize\n",
    "])\n",
    "\n",
    "# Load datasets\n",
    "train_dataset = datasets.ImageFolder('/kaggle/working/train', transform=data_transform)\n",
    "test_dataset = datasets.ImageFolder('/kaggle/working/test', transform=data_transform)\n",
    "\n",
    "# Load pre-trained ShuffleNet model\n",
    "shufflenet_model = models.shufflenet_v2_x1_0(pretrained=True)\n",
    "\n",
    "# Modify the classifier to output 2 classes\n",
    "num_ftrs = shufflenet_model.fc.in_features\n",
    "shufflenet_model.fc = nn.Linear(num_ftrs, 2)  # Output layer with 2 classes\n",
    "\n",
    "# Freeze all parameters except the final layer\n",
    "for param in shufflenet_model.parameters():\n",
    "    param.requires_grad = False\n",
    "\n",
    "# Make parameters of the final layer trainable\n",
    "for param in shufflenet_model.fc.parameters():\n",
    "    param.requires_grad = True\n",
    "\n",
    "# Move model to device\n",
    "shufflenet_model = shufflenet_model.to(device)\n",
    "\n",
    "# Define loss function and optimizer\n",
    "criterion = nn.CrossEntropyLoss()\n",
    "optimizer = torch.optim.Adam(filter(lambda p: p.requires_grad, shufflenet_model.parameters()), lr=0.001)\n",
    "\n",
    "# DataLoaders\n",
    "train_loader = DataLoader(train_dataset, batch_size=32, shuffle=True)\n",
    "test_loader = DataLoader(test_dataset, batch_size=32, shuffle=False)\n",
    "\n",
    "# Training loop\n",
    "num_epochs = 10\n",
    "for epoch in range(num_epochs):\n",
    "    shufflenet_model.train()\n",
    "    for images, labels in train_loader:\n",
    "        images, labels = images.to(device), labels.to(device)\n",
    "        optimizer.zero_grad()\n",
    "        outputs = shufflenet_model(images)\n",
    "        loss = criterion(outputs, labels)\n",
    "        loss.backward()\n",
    "        optimizer.step()\n",
    "    print(f'Epoch [{epoch+1}/{num_epochs}], Loss: {loss.item():.4f}')\n",
    "\n",
    "# Evaluation\n",
    "shufflenet_model.eval()\n",
    "correct = 0\n",
    "total = 0\n",
    "with torch.no_grad():\n",
    "    for images, labels in test_loader:\n",
    "        images, labels = images.to(device), labels.to(device)\n",
    "        outputs = shufflenet_model(images)\n",
    "        _, predicted = torch.max(outputs.data, 1)\n",
    "        total += labels.size(0)\n",
    "        correct += (predicted == labels).sum().item()\n",
    "\n",
    "accuracy = correct / total\n",
    "print(f'Accuracy on test set: {100 * accuracy:.2f}%')"
   ]
  },
  {
   "cell_type": "code",
   "execution_count": 4,
   "id": "9ec8f506",
   "metadata": {
    "execution": {
     "iopub.execute_input": "2024-06-14T13:18:17.378923Z",
     "iopub.status.busy": "2024-06-14T13:18:17.378510Z",
     "iopub.status.idle": "2024-06-14T13:18:17.408666Z",
     "shell.execute_reply": "2024-06-14T13:18:17.407672Z"
    },
    "papermill": {
     "duration": 0.037606,
     "end_time": "2024-06-14T13:18:17.411445",
     "exception": false,
     "start_time": "2024-06-14T13:18:17.373839",
     "status": "completed"
    },
    "tags": []
   },
   "outputs": [],
   "source": [
    "torch.save(shufflenet_model.state_dict(), 'shufflenet_model.pth')\n"
   ]
  }
 ],
 "metadata": {
  "kaggle": {
   "accelerator": "none",
   "dataSources": [
    {
     "datasetId": 5203053,
     "sourceId": 8679592,
     "sourceType": "datasetVersion"
    }
   ],
   "dockerImageVersionId": 30732,
   "isGpuEnabled": false,
   "isInternetEnabled": true,
   "language": "python",
   "sourceType": "notebook"
  },
  "kernelspec": {
   "display_name": "Python 3",
   "language": "python",
   "name": "python3"
  },
  "language_info": {
   "codemirror_mode": {
    "name": "ipython",
    "version": 3
   },
   "file_extension": ".py",
   "mimetype": "text/x-python",
   "name": "python",
   "nbconvert_exporter": "python",
   "pygments_lexer": "ipython3",
   "version": "3.10.13"
  },
  "papermill": {
   "default_parameters": {},
   "duration": 3990.875868,
   "end_time": "2024-06-14T13:18:18.544225",
   "environment_variables": {},
   "exception": null,
   "input_path": "__notebook__.ipynb",
   "output_path": "__notebook__.ipynb",
   "parameters": {},
   "start_time": "2024-06-14T12:11:47.668357",
   "version": "2.5.0"
  }
 },
 "nbformat": 4,
 "nbformat_minor": 5
}
